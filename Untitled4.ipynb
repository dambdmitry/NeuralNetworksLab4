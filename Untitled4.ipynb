{
  "nbformat": 4,
  "nbformat_minor": 0,
  "metadata": {
    "colab": {
      "name": "Untitled4.ipynb",
      "provenance": []
    },
    "kernelspec": {
      "name": "python3",
      "display_name": "Python 3"
    },
    "accelerator": "GPU",
    "widgets": {
      "application/vnd.jupyter.widget-state+json": {
        "efc2703e36bb4b268709689104ddebf2": {
          "model_module": "@jupyter-widgets/controls",
          "model_name": "HBoxModel",
          "state": {
            "_view_name": "HBoxView",
            "_dom_classes": [],
            "_model_name": "HBoxModel",
            "_view_module": "@jupyter-widgets/controls",
            "_model_module_version": "1.5.0",
            "_view_count": null,
            "_view_module_version": "1.5.0",
            "box_style": "",
            "layout": "IPY_MODEL_f97af7b3380c4879a16af80e6fce5086",
            "_model_module": "@jupyter-widgets/controls",
            "children": [
              "IPY_MODEL_5fc9f22b7b5d4866b0a1048660cdb730",
              "IPY_MODEL_ed9cbfa395f745fbbdee2d6ac35cc065"
            ]
          }
        },
        "f97af7b3380c4879a16af80e6fce5086": {
          "model_module": "@jupyter-widgets/base",
          "model_name": "LayoutModel",
          "state": {
            "_view_name": "LayoutView",
            "grid_template_rows": null,
            "right": null,
            "justify_content": null,
            "_view_module": "@jupyter-widgets/base",
            "overflow": null,
            "_model_module_version": "1.2.0",
            "_view_count": null,
            "flex_flow": null,
            "width": null,
            "min_width": null,
            "border": null,
            "align_items": null,
            "bottom": null,
            "_model_module": "@jupyter-widgets/base",
            "top": null,
            "grid_column": null,
            "overflow_y": null,
            "overflow_x": null,
            "grid_auto_flow": null,
            "grid_area": null,
            "grid_template_columns": null,
            "flex": null,
            "_model_name": "LayoutModel",
            "justify_items": null,
            "grid_row": null,
            "max_height": null,
            "align_content": null,
            "visibility": null,
            "align_self": null,
            "height": null,
            "min_height": null,
            "padding": null,
            "grid_auto_rows": null,
            "grid_gap": null,
            "max_width": null,
            "order": null,
            "_view_module_version": "1.2.0",
            "grid_template_areas": null,
            "object_position": null,
            "object_fit": null,
            "grid_auto_columns": null,
            "margin": null,
            "display": null,
            "left": null
          }
        },
        "5fc9f22b7b5d4866b0a1048660cdb730": {
          "model_module": "@jupyter-widgets/controls",
          "model_name": "FloatProgressModel",
          "state": {
            "_view_name": "ProgressView",
            "style": "IPY_MODEL_55c28a0dce084d18afa1e5c138bf6ea1",
            "_dom_classes": [],
            "description": "",
            "_model_name": "FloatProgressModel",
            "bar_style": "info",
            "max": 1,
            "_view_module": "@jupyter-widgets/controls",
            "_model_module_version": "1.5.0",
            "value": 1,
            "_view_count": null,
            "_view_module_version": "1.5.0",
            "orientation": "horizontal",
            "min": 0,
            "description_tooltip": null,
            "_model_module": "@jupyter-widgets/controls",
            "layout": "IPY_MODEL_f3c4ee0e44244c8f922e0409aafcdcc8"
          }
        },
        "ed9cbfa395f745fbbdee2d6ac35cc065": {
          "model_module": "@jupyter-widgets/controls",
          "model_name": "HTMLModel",
          "state": {
            "_view_name": "HTMLView",
            "style": "IPY_MODEL_fca1c662cc80454c998f0540fc284bf3",
            "_dom_classes": [],
            "description": "",
            "_model_name": "HTMLModel",
            "placeholder": "​",
            "_view_module": "@jupyter-widgets/controls",
            "_model_module_version": "1.5.0",
            "value": " 9920512/? [00:20&lt;00:00, 1401788.01it/s]",
            "_view_count": null,
            "_view_module_version": "1.5.0",
            "description_tooltip": null,
            "_model_module": "@jupyter-widgets/controls",
            "layout": "IPY_MODEL_6805eaaecba648b1b46eab8f1f54bc66"
          }
        },
        "55c28a0dce084d18afa1e5c138bf6ea1": {
          "model_module": "@jupyter-widgets/controls",
          "model_name": "ProgressStyleModel",
          "state": {
            "_view_name": "StyleView",
            "_model_name": "ProgressStyleModel",
            "description_width": "initial",
            "_view_module": "@jupyter-widgets/base",
            "_model_module_version": "1.5.0",
            "_view_count": null,
            "_view_module_version": "1.2.0",
            "bar_color": null,
            "_model_module": "@jupyter-widgets/controls"
          }
        },
        "f3c4ee0e44244c8f922e0409aafcdcc8": {
          "model_module": "@jupyter-widgets/base",
          "model_name": "LayoutModel",
          "state": {
            "_view_name": "LayoutView",
            "grid_template_rows": null,
            "right": null,
            "justify_content": null,
            "_view_module": "@jupyter-widgets/base",
            "overflow": null,
            "_model_module_version": "1.2.0",
            "_view_count": null,
            "flex_flow": null,
            "width": null,
            "min_width": null,
            "border": null,
            "align_items": null,
            "bottom": null,
            "_model_module": "@jupyter-widgets/base",
            "top": null,
            "grid_column": null,
            "overflow_y": null,
            "overflow_x": null,
            "grid_auto_flow": null,
            "grid_area": null,
            "grid_template_columns": null,
            "flex": null,
            "_model_name": "LayoutModel",
            "justify_items": null,
            "grid_row": null,
            "max_height": null,
            "align_content": null,
            "visibility": null,
            "align_self": null,
            "height": null,
            "min_height": null,
            "padding": null,
            "grid_auto_rows": null,
            "grid_gap": null,
            "max_width": null,
            "order": null,
            "_view_module_version": "1.2.0",
            "grid_template_areas": null,
            "object_position": null,
            "object_fit": null,
            "grid_auto_columns": null,
            "margin": null,
            "display": null,
            "left": null
          }
        },
        "fca1c662cc80454c998f0540fc284bf3": {
          "model_module": "@jupyter-widgets/controls",
          "model_name": "DescriptionStyleModel",
          "state": {
            "_view_name": "StyleView",
            "_model_name": "DescriptionStyleModel",
            "description_width": "",
            "_view_module": "@jupyter-widgets/base",
            "_model_module_version": "1.5.0",
            "_view_count": null,
            "_view_module_version": "1.2.0",
            "_model_module": "@jupyter-widgets/controls"
          }
        },
        "6805eaaecba648b1b46eab8f1f54bc66": {
          "model_module": "@jupyter-widgets/base",
          "model_name": "LayoutModel",
          "state": {
            "_view_name": "LayoutView",
            "grid_template_rows": null,
            "right": null,
            "justify_content": null,
            "_view_module": "@jupyter-widgets/base",
            "overflow": null,
            "_model_module_version": "1.2.0",
            "_view_count": null,
            "flex_flow": null,
            "width": null,
            "min_width": null,
            "border": null,
            "align_items": null,
            "bottom": null,
            "_model_module": "@jupyter-widgets/base",
            "top": null,
            "grid_column": null,
            "overflow_y": null,
            "overflow_x": null,
            "grid_auto_flow": null,
            "grid_area": null,
            "grid_template_columns": null,
            "flex": null,
            "_model_name": "LayoutModel",
            "justify_items": null,
            "grid_row": null,
            "max_height": null,
            "align_content": null,
            "visibility": null,
            "align_self": null,
            "height": null,
            "min_height": null,
            "padding": null,
            "grid_auto_rows": null,
            "grid_gap": null,
            "max_width": null,
            "order": null,
            "_view_module_version": "1.2.0",
            "grid_template_areas": null,
            "object_position": null,
            "object_fit": null,
            "grid_auto_columns": null,
            "margin": null,
            "display": null,
            "left": null
          }
        },
        "71504fa4004f427f8636805504bab8ff": {
          "model_module": "@jupyter-widgets/controls",
          "model_name": "HBoxModel",
          "state": {
            "_view_name": "HBoxView",
            "_dom_classes": [],
            "_model_name": "HBoxModel",
            "_view_module": "@jupyter-widgets/controls",
            "_model_module_version": "1.5.0",
            "_view_count": null,
            "_view_module_version": "1.5.0",
            "box_style": "",
            "layout": "IPY_MODEL_89f5faa39bd94220a45823a4dca450cf",
            "_model_module": "@jupyter-widgets/controls",
            "children": [
              "IPY_MODEL_1e4f8308a0474548ab0b9a805e559213",
              "IPY_MODEL_41dd3e48e25c4d058718800467be59d2"
            ]
          }
        },
        "89f5faa39bd94220a45823a4dca450cf": {
          "model_module": "@jupyter-widgets/base",
          "model_name": "LayoutModel",
          "state": {
            "_view_name": "LayoutView",
            "grid_template_rows": null,
            "right": null,
            "justify_content": null,
            "_view_module": "@jupyter-widgets/base",
            "overflow": null,
            "_model_module_version": "1.2.0",
            "_view_count": null,
            "flex_flow": null,
            "width": null,
            "min_width": null,
            "border": null,
            "align_items": null,
            "bottom": null,
            "_model_module": "@jupyter-widgets/base",
            "top": null,
            "grid_column": null,
            "overflow_y": null,
            "overflow_x": null,
            "grid_auto_flow": null,
            "grid_area": null,
            "grid_template_columns": null,
            "flex": null,
            "_model_name": "LayoutModel",
            "justify_items": null,
            "grid_row": null,
            "max_height": null,
            "align_content": null,
            "visibility": null,
            "align_self": null,
            "height": null,
            "min_height": null,
            "padding": null,
            "grid_auto_rows": null,
            "grid_gap": null,
            "max_width": null,
            "order": null,
            "_view_module_version": "1.2.0",
            "grid_template_areas": null,
            "object_position": null,
            "object_fit": null,
            "grid_auto_columns": null,
            "margin": null,
            "display": null,
            "left": null
          }
        },
        "1e4f8308a0474548ab0b9a805e559213": {
          "model_module": "@jupyter-widgets/controls",
          "model_name": "FloatProgressModel",
          "state": {
            "_view_name": "ProgressView",
            "style": "IPY_MODEL_1b8de7cff86a439cab74bb45870e8891",
            "_dom_classes": [],
            "description": "",
            "_model_name": "FloatProgressModel",
            "bar_style": "success",
            "max": 1,
            "_view_module": "@jupyter-widgets/controls",
            "_model_module_version": "1.5.0",
            "value": 1,
            "_view_count": null,
            "_view_module_version": "1.5.0",
            "orientation": "horizontal",
            "min": 0,
            "description_tooltip": null,
            "_model_module": "@jupyter-widgets/controls",
            "layout": "IPY_MODEL_d802e7a702264832ac7573aa88c1dd1b"
          }
        },
        "41dd3e48e25c4d058718800467be59d2": {
          "model_module": "@jupyter-widgets/controls",
          "model_name": "HTMLModel",
          "state": {
            "_view_name": "HTMLView",
            "style": "IPY_MODEL_a0f147fbc3e746a2ac45d321998beb3c",
            "_dom_classes": [],
            "description": "",
            "_model_name": "HTMLModel",
            "placeholder": "​",
            "_view_module": "@jupyter-widgets/controls",
            "_model_module_version": "1.5.0",
            "value": " 32768/? [00:04&lt;00:00, 7331.99it/s]",
            "_view_count": null,
            "_view_module_version": "1.5.0",
            "description_tooltip": null,
            "_model_module": "@jupyter-widgets/controls",
            "layout": "IPY_MODEL_6af6f743fb714fc8bd6ebf83b5a6dd7a"
          }
        },
        "1b8de7cff86a439cab74bb45870e8891": {
          "model_module": "@jupyter-widgets/controls",
          "model_name": "ProgressStyleModel",
          "state": {
            "_view_name": "StyleView",
            "_model_name": "ProgressStyleModel",
            "description_width": "initial",
            "_view_module": "@jupyter-widgets/base",
            "_model_module_version": "1.5.0",
            "_view_count": null,
            "_view_module_version": "1.2.0",
            "bar_color": null,
            "_model_module": "@jupyter-widgets/controls"
          }
        },
        "d802e7a702264832ac7573aa88c1dd1b": {
          "model_module": "@jupyter-widgets/base",
          "model_name": "LayoutModel",
          "state": {
            "_view_name": "LayoutView",
            "grid_template_rows": null,
            "right": null,
            "justify_content": null,
            "_view_module": "@jupyter-widgets/base",
            "overflow": null,
            "_model_module_version": "1.2.0",
            "_view_count": null,
            "flex_flow": null,
            "width": null,
            "min_width": null,
            "border": null,
            "align_items": null,
            "bottom": null,
            "_model_module": "@jupyter-widgets/base",
            "top": null,
            "grid_column": null,
            "overflow_y": null,
            "overflow_x": null,
            "grid_auto_flow": null,
            "grid_area": null,
            "grid_template_columns": null,
            "flex": null,
            "_model_name": "LayoutModel",
            "justify_items": null,
            "grid_row": null,
            "max_height": null,
            "align_content": null,
            "visibility": null,
            "align_self": null,
            "height": null,
            "min_height": null,
            "padding": null,
            "grid_auto_rows": null,
            "grid_gap": null,
            "max_width": null,
            "order": null,
            "_view_module_version": "1.2.0",
            "grid_template_areas": null,
            "object_position": null,
            "object_fit": null,
            "grid_auto_columns": null,
            "margin": null,
            "display": null,
            "left": null
          }
        },
        "a0f147fbc3e746a2ac45d321998beb3c": {
          "model_module": "@jupyter-widgets/controls",
          "model_name": "DescriptionStyleModel",
          "state": {
            "_view_name": "StyleView",
            "_model_name": "DescriptionStyleModel",
            "description_width": "",
            "_view_module": "@jupyter-widgets/base",
            "_model_module_version": "1.5.0",
            "_view_count": null,
            "_view_module_version": "1.2.0",
            "_model_module": "@jupyter-widgets/controls"
          }
        },
        "6af6f743fb714fc8bd6ebf83b5a6dd7a": {
          "model_module": "@jupyter-widgets/base",
          "model_name": "LayoutModel",
          "state": {
            "_view_name": "LayoutView",
            "grid_template_rows": null,
            "right": null,
            "justify_content": null,
            "_view_module": "@jupyter-widgets/base",
            "overflow": null,
            "_model_module_version": "1.2.0",
            "_view_count": null,
            "flex_flow": null,
            "width": null,
            "min_width": null,
            "border": null,
            "align_items": null,
            "bottom": null,
            "_model_module": "@jupyter-widgets/base",
            "top": null,
            "grid_column": null,
            "overflow_y": null,
            "overflow_x": null,
            "grid_auto_flow": null,
            "grid_area": null,
            "grid_template_columns": null,
            "flex": null,
            "_model_name": "LayoutModel",
            "justify_items": null,
            "grid_row": null,
            "max_height": null,
            "align_content": null,
            "visibility": null,
            "align_self": null,
            "height": null,
            "min_height": null,
            "padding": null,
            "grid_auto_rows": null,
            "grid_gap": null,
            "max_width": null,
            "order": null,
            "_view_module_version": "1.2.0",
            "grid_template_areas": null,
            "object_position": null,
            "object_fit": null,
            "grid_auto_columns": null,
            "margin": null,
            "display": null,
            "left": null
          }
        },
        "3b13ef34dc1a4ad39a4fa89ae10ff87e": {
          "model_module": "@jupyter-widgets/controls",
          "model_name": "HBoxModel",
          "state": {
            "_view_name": "HBoxView",
            "_dom_classes": [],
            "_model_name": "HBoxModel",
            "_view_module": "@jupyter-widgets/controls",
            "_model_module_version": "1.5.0",
            "_view_count": null,
            "_view_module_version": "1.5.0",
            "box_style": "",
            "layout": "IPY_MODEL_cb1a3f12880e44088b901c4e498aa2c4",
            "_model_module": "@jupyter-widgets/controls",
            "children": [
              "IPY_MODEL_508e4c73a0c84a14ab3b5bc89ac480bd",
              "IPY_MODEL_36741c469c3a46b89e6726cec7831324"
            ]
          }
        },
        "cb1a3f12880e44088b901c4e498aa2c4": {
          "model_module": "@jupyter-widgets/base",
          "model_name": "LayoutModel",
          "state": {
            "_view_name": "LayoutView",
            "grid_template_rows": null,
            "right": null,
            "justify_content": null,
            "_view_module": "@jupyter-widgets/base",
            "overflow": null,
            "_model_module_version": "1.2.0",
            "_view_count": null,
            "flex_flow": null,
            "width": null,
            "min_width": null,
            "border": null,
            "align_items": null,
            "bottom": null,
            "_model_module": "@jupyter-widgets/base",
            "top": null,
            "grid_column": null,
            "overflow_y": null,
            "overflow_x": null,
            "grid_auto_flow": null,
            "grid_area": null,
            "grid_template_columns": null,
            "flex": null,
            "_model_name": "LayoutModel",
            "justify_items": null,
            "grid_row": null,
            "max_height": null,
            "align_content": null,
            "visibility": null,
            "align_self": null,
            "height": null,
            "min_height": null,
            "padding": null,
            "grid_auto_rows": null,
            "grid_gap": null,
            "max_width": null,
            "order": null,
            "_view_module_version": "1.2.0",
            "grid_template_areas": null,
            "object_position": null,
            "object_fit": null,
            "grid_auto_columns": null,
            "margin": null,
            "display": null,
            "left": null
          }
        },
        "508e4c73a0c84a14ab3b5bc89ac480bd": {
          "model_module": "@jupyter-widgets/controls",
          "model_name": "FloatProgressModel",
          "state": {
            "_view_name": "ProgressView",
            "style": "IPY_MODEL_228b5b4d236f44a5b95e9c3487227281",
            "_dom_classes": [],
            "description": "",
            "_model_name": "FloatProgressModel",
            "bar_style": "success",
            "max": 1,
            "_view_module": "@jupyter-widgets/controls",
            "_model_module_version": "1.5.0",
            "value": 1,
            "_view_count": null,
            "_view_module_version": "1.5.0",
            "orientation": "horizontal",
            "min": 0,
            "description_tooltip": null,
            "_model_module": "@jupyter-widgets/controls",
            "layout": "IPY_MODEL_c9f0d913327d4f34a88289784d23925d"
          }
        },
        "36741c469c3a46b89e6726cec7831324": {
          "model_module": "@jupyter-widgets/controls",
          "model_name": "HTMLModel",
          "state": {
            "_view_name": "HTMLView",
            "style": "IPY_MODEL_991aff8b2f6d477286111d6424189ee6",
            "_dom_classes": [],
            "description": "",
            "_model_name": "HTMLModel",
            "placeholder": "​",
            "_view_module": "@jupyter-widgets/controls",
            "_model_module_version": "1.5.0",
            "value": " 1654784/? [00:02&lt;00:00, 652542.81it/s]",
            "_view_count": null,
            "_view_module_version": "1.5.0",
            "description_tooltip": null,
            "_model_module": "@jupyter-widgets/controls",
            "layout": "IPY_MODEL_88239e56bf0e432391847b7b062bff80"
          }
        },
        "228b5b4d236f44a5b95e9c3487227281": {
          "model_module": "@jupyter-widgets/controls",
          "model_name": "ProgressStyleModel",
          "state": {
            "_view_name": "StyleView",
            "_model_name": "ProgressStyleModel",
            "description_width": "initial",
            "_view_module": "@jupyter-widgets/base",
            "_model_module_version": "1.5.0",
            "_view_count": null,
            "_view_module_version": "1.2.0",
            "bar_color": null,
            "_model_module": "@jupyter-widgets/controls"
          }
        },
        "c9f0d913327d4f34a88289784d23925d": {
          "model_module": "@jupyter-widgets/base",
          "model_name": "LayoutModel",
          "state": {
            "_view_name": "LayoutView",
            "grid_template_rows": null,
            "right": null,
            "justify_content": null,
            "_view_module": "@jupyter-widgets/base",
            "overflow": null,
            "_model_module_version": "1.2.0",
            "_view_count": null,
            "flex_flow": null,
            "width": null,
            "min_width": null,
            "border": null,
            "align_items": null,
            "bottom": null,
            "_model_module": "@jupyter-widgets/base",
            "top": null,
            "grid_column": null,
            "overflow_y": null,
            "overflow_x": null,
            "grid_auto_flow": null,
            "grid_area": null,
            "grid_template_columns": null,
            "flex": null,
            "_model_name": "LayoutModel",
            "justify_items": null,
            "grid_row": null,
            "max_height": null,
            "align_content": null,
            "visibility": null,
            "align_self": null,
            "height": null,
            "min_height": null,
            "padding": null,
            "grid_auto_rows": null,
            "grid_gap": null,
            "max_width": null,
            "order": null,
            "_view_module_version": "1.2.0",
            "grid_template_areas": null,
            "object_position": null,
            "object_fit": null,
            "grid_auto_columns": null,
            "margin": null,
            "display": null,
            "left": null
          }
        },
        "991aff8b2f6d477286111d6424189ee6": {
          "model_module": "@jupyter-widgets/controls",
          "model_name": "DescriptionStyleModel",
          "state": {
            "_view_name": "StyleView",
            "_model_name": "DescriptionStyleModel",
            "description_width": "",
            "_view_module": "@jupyter-widgets/base",
            "_model_module_version": "1.5.0",
            "_view_count": null,
            "_view_module_version": "1.2.0",
            "_model_module": "@jupyter-widgets/controls"
          }
        },
        "88239e56bf0e432391847b7b062bff80": {
          "model_module": "@jupyter-widgets/base",
          "model_name": "LayoutModel",
          "state": {
            "_view_name": "LayoutView",
            "grid_template_rows": null,
            "right": null,
            "justify_content": null,
            "_view_module": "@jupyter-widgets/base",
            "overflow": null,
            "_model_module_version": "1.2.0",
            "_view_count": null,
            "flex_flow": null,
            "width": null,
            "min_width": null,
            "border": null,
            "align_items": null,
            "bottom": null,
            "_model_module": "@jupyter-widgets/base",
            "top": null,
            "grid_column": null,
            "overflow_y": null,
            "overflow_x": null,
            "grid_auto_flow": null,
            "grid_area": null,
            "grid_template_columns": null,
            "flex": null,
            "_model_name": "LayoutModel",
            "justify_items": null,
            "grid_row": null,
            "max_height": null,
            "align_content": null,
            "visibility": null,
            "align_self": null,
            "height": null,
            "min_height": null,
            "padding": null,
            "grid_auto_rows": null,
            "grid_gap": null,
            "max_width": null,
            "order": null,
            "_view_module_version": "1.2.0",
            "grid_template_areas": null,
            "object_position": null,
            "object_fit": null,
            "grid_auto_columns": null,
            "margin": null,
            "display": null,
            "left": null
          }
        },
        "00583e27f8a44852bd46168ddc83f16b": {
          "model_module": "@jupyter-widgets/controls",
          "model_name": "HBoxModel",
          "state": {
            "_view_name": "HBoxView",
            "_dom_classes": [],
            "_model_name": "HBoxModel",
            "_view_module": "@jupyter-widgets/controls",
            "_model_module_version": "1.5.0",
            "_view_count": null,
            "_view_module_version": "1.5.0",
            "box_style": "",
            "layout": "IPY_MODEL_b7d444d5274b43e7912213760b8f9e8d",
            "_model_module": "@jupyter-widgets/controls",
            "children": [
              "IPY_MODEL_0c1e493f696349df9b3997d243542e8b",
              "IPY_MODEL_e5d60f2e7cf545e9969effa3c825494e"
            ]
          }
        },
        "b7d444d5274b43e7912213760b8f9e8d": {
          "model_module": "@jupyter-widgets/base",
          "model_name": "LayoutModel",
          "state": {
            "_view_name": "LayoutView",
            "grid_template_rows": null,
            "right": null,
            "justify_content": null,
            "_view_module": "@jupyter-widgets/base",
            "overflow": null,
            "_model_module_version": "1.2.0",
            "_view_count": null,
            "flex_flow": null,
            "width": null,
            "min_width": null,
            "border": null,
            "align_items": null,
            "bottom": null,
            "_model_module": "@jupyter-widgets/base",
            "top": null,
            "grid_column": null,
            "overflow_y": null,
            "overflow_x": null,
            "grid_auto_flow": null,
            "grid_area": null,
            "grid_template_columns": null,
            "flex": null,
            "_model_name": "LayoutModel",
            "justify_items": null,
            "grid_row": null,
            "max_height": null,
            "align_content": null,
            "visibility": null,
            "align_self": null,
            "height": null,
            "min_height": null,
            "padding": null,
            "grid_auto_rows": null,
            "grid_gap": null,
            "max_width": null,
            "order": null,
            "_view_module_version": "1.2.0",
            "grid_template_areas": null,
            "object_position": null,
            "object_fit": null,
            "grid_auto_columns": null,
            "margin": null,
            "display": null,
            "left": null
          }
        },
        "0c1e493f696349df9b3997d243542e8b": {
          "model_module": "@jupyter-widgets/controls",
          "model_name": "FloatProgressModel",
          "state": {
            "_view_name": "ProgressView",
            "style": "IPY_MODEL_5191dcc6ee3549cb812b4e9bc0b6cf71",
            "_dom_classes": [],
            "description": "",
            "_model_name": "FloatProgressModel",
            "bar_style": "success",
            "max": 1,
            "_view_module": "@jupyter-widgets/controls",
            "_model_module_version": "1.5.0",
            "value": 1,
            "_view_count": null,
            "_view_module_version": "1.5.0",
            "orientation": "horizontal",
            "min": 0,
            "description_tooltip": null,
            "_model_module": "@jupyter-widgets/controls",
            "layout": "IPY_MODEL_3e1c95277655455280749511ddeb3228"
          }
        },
        "e5d60f2e7cf545e9969effa3c825494e": {
          "model_module": "@jupyter-widgets/controls",
          "model_name": "HTMLModel",
          "state": {
            "_view_name": "HTMLView",
            "style": "IPY_MODEL_27391dabc7d9458b9fe4d6d31ab9d5c9",
            "_dom_classes": [],
            "description": "",
            "_model_name": "HTMLModel",
            "placeholder": "​",
            "_view_module": "@jupyter-widgets/controls",
            "_model_module_version": "1.5.0",
            "value": " 8192/? [00:00&lt;00:00, 11654.65it/s]",
            "_view_count": null,
            "_view_module_version": "1.5.0",
            "description_tooltip": null,
            "_model_module": "@jupyter-widgets/controls",
            "layout": "IPY_MODEL_02f66409b84a4ce9b2c025c2e5d3d104"
          }
        },
        "5191dcc6ee3549cb812b4e9bc0b6cf71": {
          "model_module": "@jupyter-widgets/controls",
          "model_name": "ProgressStyleModel",
          "state": {
            "_view_name": "StyleView",
            "_model_name": "ProgressStyleModel",
            "description_width": "initial",
            "_view_module": "@jupyter-widgets/base",
            "_model_module_version": "1.5.0",
            "_view_count": null,
            "_view_module_version": "1.2.0",
            "bar_color": null,
            "_model_module": "@jupyter-widgets/controls"
          }
        },
        "3e1c95277655455280749511ddeb3228": {
          "model_module": "@jupyter-widgets/base",
          "model_name": "LayoutModel",
          "state": {
            "_view_name": "LayoutView",
            "grid_template_rows": null,
            "right": null,
            "justify_content": null,
            "_view_module": "@jupyter-widgets/base",
            "overflow": null,
            "_model_module_version": "1.2.0",
            "_view_count": null,
            "flex_flow": null,
            "width": null,
            "min_width": null,
            "border": null,
            "align_items": null,
            "bottom": null,
            "_model_module": "@jupyter-widgets/base",
            "top": null,
            "grid_column": null,
            "overflow_y": null,
            "overflow_x": null,
            "grid_auto_flow": null,
            "grid_area": null,
            "grid_template_columns": null,
            "flex": null,
            "_model_name": "LayoutModel",
            "justify_items": null,
            "grid_row": null,
            "max_height": null,
            "align_content": null,
            "visibility": null,
            "align_self": null,
            "height": null,
            "min_height": null,
            "padding": null,
            "grid_auto_rows": null,
            "grid_gap": null,
            "max_width": null,
            "order": null,
            "_view_module_version": "1.2.0",
            "grid_template_areas": null,
            "object_position": null,
            "object_fit": null,
            "grid_auto_columns": null,
            "margin": null,
            "display": null,
            "left": null
          }
        },
        "27391dabc7d9458b9fe4d6d31ab9d5c9": {
          "model_module": "@jupyter-widgets/controls",
          "model_name": "DescriptionStyleModel",
          "state": {
            "_view_name": "StyleView",
            "_model_name": "DescriptionStyleModel",
            "description_width": "",
            "_view_module": "@jupyter-widgets/base",
            "_model_module_version": "1.5.0",
            "_view_count": null,
            "_view_module_version": "1.2.0",
            "_model_module": "@jupyter-widgets/controls"
          }
        },
        "02f66409b84a4ce9b2c025c2e5d3d104": {
          "model_module": "@jupyter-widgets/base",
          "model_name": "LayoutModel",
          "state": {
            "_view_name": "LayoutView",
            "grid_template_rows": null,
            "right": null,
            "justify_content": null,
            "_view_module": "@jupyter-widgets/base",
            "overflow": null,
            "_model_module_version": "1.2.0",
            "_view_count": null,
            "flex_flow": null,
            "width": null,
            "min_width": null,
            "border": null,
            "align_items": null,
            "bottom": null,
            "_model_module": "@jupyter-widgets/base",
            "top": null,
            "grid_column": null,
            "overflow_y": null,
            "overflow_x": null,
            "grid_auto_flow": null,
            "grid_area": null,
            "grid_template_columns": null,
            "flex": null,
            "_model_name": "LayoutModel",
            "justify_items": null,
            "grid_row": null,
            "max_height": null,
            "align_content": null,
            "visibility": null,
            "align_self": null,
            "height": null,
            "min_height": null,
            "padding": null,
            "grid_auto_rows": null,
            "grid_gap": null,
            "max_width": null,
            "order": null,
            "_view_module_version": "1.2.0",
            "grid_template_areas": null,
            "object_position": null,
            "object_fit": null,
            "grid_auto_columns": null,
            "margin": null,
            "display": null,
            "left": null
          }
        }
      }
    }
  },
  "cells": [
    {
      "cell_type": "code",
      "metadata": {
        "id": "_nAgYeCdVhPS",
        "colab_type": "code",
        "colab": {}
      },
      "source": [
        "import numpy as np\n",
        "import torch\n",
        "import matplotlib.pyplot as plt\n",
        "from torchvision import datasets\n",
        "import torchvision.transforms as transforms\n",
        "%matplotlib inline"
      ],
      "execution_count": 0,
      "outputs": []
    },
    {
      "cell_type": "code",
      "metadata": {
        "id": "06K8AEA9V2ez",
        "colab_type": "code",
        "colab": {
          "base_uri": "https://localhost:8080/",
          "height": 352,
          "referenced_widgets": [
            "efc2703e36bb4b268709689104ddebf2",
            "f97af7b3380c4879a16af80e6fce5086",
            "5fc9f22b7b5d4866b0a1048660cdb730",
            "ed9cbfa395f745fbbdee2d6ac35cc065",
            "55c28a0dce084d18afa1e5c138bf6ea1",
            "f3c4ee0e44244c8f922e0409aafcdcc8",
            "fca1c662cc80454c998f0540fc284bf3",
            "6805eaaecba648b1b46eab8f1f54bc66",
            "71504fa4004f427f8636805504bab8ff",
            "89f5faa39bd94220a45823a4dca450cf",
            "1e4f8308a0474548ab0b9a805e559213",
            "41dd3e48e25c4d058718800467be59d2",
            "1b8de7cff86a439cab74bb45870e8891",
            "d802e7a702264832ac7573aa88c1dd1b",
            "a0f147fbc3e746a2ac45d321998beb3c",
            "6af6f743fb714fc8bd6ebf83b5a6dd7a",
            "3b13ef34dc1a4ad39a4fa89ae10ff87e",
            "cb1a3f12880e44088b901c4e498aa2c4",
            "508e4c73a0c84a14ab3b5bc89ac480bd",
            "36741c469c3a46b89e6726cec7831324",
            "228b5b4d236f44a5b95e9c3487227281",
            "c9f0d913327d4f34a88289784d23925d",
            "991aff8b2f6d477286111d6424189ee6",
            "88239e56bf0e432391847b7b062bff80",
            "00583e27f8a44852bd46168ddc83f16b",
            "b7d444d5274b43e7912213760b8f9e8d",
            "0c1e493f696349df9b3997d243542e8b",
            "e5d60f2e7cf545e9969effa3c825494e",
            "5191dcc6ee3549cb812b4e9bc0b6cf71",
            "3e1c95277655455280749511ddeb3228",
            "27391dabc7d9458b9fe4d6d31ab9d5c9",
            "02f66409b84a4ce9b2c025c2e5d3d104"
          ]
        },
        "outputId": "05e5c4fb-72ad-47c0-c098-3d4ae27e107b"
      },
      "source": [
        "#Количество подпроцессов для загрузки данных\n",
        "num_workers = 0\n",
        "#Сколько образцов загружаем за раз\n",
        "batch_size = 64\n",
        "#Конвертируем в тензор\n",
        "transform = transforms.ToTensor()\n",
        "\n",
        "#Загружаем данные\n",
        "train_data = datasets.MNIST(root='data', train=True, download=True, transform=transform)\n",
        "train_loader = torch.utils.data.DataLoader(train_data, batch_size=batch_size, num_workers=num_workers)"
      ],
      "execution_count": 2,
      "outputs": [
        {
          "output_type": "stream",
          "text": [
            "Downloading http://yann.lecun.com/exdb/mnist/train-images-idx3-ubyte.gz to data/MNIST/raw/train-images-idx3-ubyte.gz\n"
          ],
          "name": "stdout"
        },
        {
          "output_type": "display_data",
          "data": {
            "application/vnd.jupyter.widget-view+json": {
              "model_id": "efc2703e36bb4b268709689104ddebf2",
              "version_minor": 0,
              "version_major": 2
            },
            "text/plain": [
              "HBox(children=(FloatProgress(value=1.0, bar_style='info', max=1.0), HTML(value='')))"
            ]
          },
          "metadata": {
            "tags": []
          }
        },
        {
          "output_type": "stream",
          "text": [
            "Extracting data/MNIST/raw/train-images-idx3-ubyte.gz to data/MNIST/raw\n",
            "Downloading http://yann.lecun.com/exdb/mnist/train-labels-idx1-ubyte.gz to data/MNIST/raw/train-labels-idx1-ubyte.gz\n"
          ],
          "name": "stdout"
        },
        {
          "output_type": "display_data",
          "data": {
            "application/vnd.jupyter.widget-view+json": {
              "model_id": "71504fa4004f427f8636805504bab8ff",
              "version_minor": 0,
              "version_major": 2
            },
            "text/plain": [
              "HBox(children=(FloatProgress(value=1.0, bar_style='info', max=1.0), HTML(value='')))"
            ]
          },
          "metadata": {
            "tags": []
          }
        },
        {
          "output_type": "stream",
          "text": [
            "Extracting data/MNIST/raw/train-labels-idx1-ubyte.gz to data/MNIST/raw\n",
            "Downloading http://yann.lecun.com/exdb/mnist/t10k-images-idx3-ubyte.gz to data/MNIST/raw/t10k-images-idx3-ubyte.gz\n"
          ],
          "name": "stdout"
        },
        {
          "output_type": "display_data",
          "data": {
            "application/vnd.jupyter.widget-view+json": {
              "model_id": "3b13ef34dc1a4ad39a4fa89ae10ff87e",
              "version_minor": 0,
              "version_major": 2
            },
            "text/plain": [
              "HBox(children=(FloatProgress(value=1.0, bar_style='info', max=1.0), HTML(value='')))"
            ]
          },
          "metadata": {
            "tags": []
          }
        },
        {
          "output_type": "stream",
          "text": [
            "Extracting data/MNIST/raw/t10k-images-idx3-ubyte.gz to data/MNIST/raw\n",
            "Downloading http://yann.lecun.com/exdb/mnist/t10k-labels-idx1-ubyte.gz to data/MNIST/raw/t10k-labels-idx1-ubyte.gz\n"
          ],
          "name": "stdout"
        },
        {
          "output_type": "display_data",
          "data": {
            "application/vnd.jupyter.widget-view+json": {
              "model_id": "00583e27f8a44852bd46168ddc83f16b",
              "version_minor": 0,
              "version_major": 2
            },
            "text/plain": [
              "HBox(children=(FloatProgress(value=1.0, bar_style='info', max=1.0), HTML(value='')))"
            ]
          },
          "metadata": {
            "tags": []
          }
        },
        {
          "output_type": "stream",
          "text": [
            "Extracting data/MNIST/raw/t10k-labels-idx1-ubyte.gz to data/MNIST/raw\n",
            "Processing...\n",
            "Done!\n"
          ],
          "name": "stdout"
        },
        {
          "output_type": "stream",
          "text": [
            "/pytorch/torch/csrc/utils/tensor_numpy.cpp:141: UserWarning: The given NumPy array is not writeable, and PyTorch does not support non-writeable tensors. This means you can write to the underlying (supposedly non-writeable) NumPy array using the tensor. You may want to copy the array to protect its data or make it writeable before converting it to a tensor. This type of warning will be suppressed for the rest of this program.\n"
          ],
          "name": "stderr"
        }
      ]
    },
    {
      "cell_type": "code",
      "metadata": {
        "id": "OR7gCePpXfbk",
        "colab_type": "code",
        "colab": {
          "base_uri": "https://localhost:8080/",
          "height": 280
        },
        "outputId": "23f2b43c-1032-4680-94e7-1c34dfd7a9f2"
      },
      "source": [
        "#Визуализируем\n",
        "dataiter = iter(train_loader)\n",
        "images, labels = dataiter.next()\n",
        "images = images.numpy()\n",
        "\n",
        "#Берем одну картинку с батча\n",
        "img = np.squeeze(images[0])\n",
        "fig = plt.figure(figsize = (3,3))\n",
        "ax = fig.add_subplot(111)\n",
        "ax.imshow(img, cmap='gray')"
      ],
      "execution_count": 3,
      "outputs": [
        {
          "output_type": "stream",
          "text": [
            "\n",
            "\n"
          ],
          "name": "stdout"
        },
        {
          "output_type": "execute_result",
          "data": {
            "text/plain": [
              "<matplotlib.image.AxesImage at 0x7f130c6f6240>"
            ]
          },
          "metadata": {
            "tags": []
          },
          "execution_count": 3
        },
        {
          "output_type": "display_data",
          "data": {
            "image/png": "[encoded data removed]",
            "text/plain": [
              "<Figure size 216x216 with 1 Axes>"
            ]
          },
          "metadata": {
            "tags": [],
            "needs_background": "light"
          }
        },
        {
          "output_type": "stream",
          "text": [
            "\n"
          ],
          "name": "stdout"
        }
      ]
    },
    {
      "cell_type": "code",
      "metadata": {
        "id": "8iy8rFCFYohQ",
        "colab_type": "code",
        "colab": {}
      },
      "source": [
        "import torch.nn as nn\n",
        "import torch.nn.functional as F\n",
        "class Discriminator(nn.Module):\n",
        "  def __init__(self, input_size, hidden_dim, output_size):\n",
        "    super(Discriminator, self).__init__()\n",
        "    self.hidden_dim = hidden_dim\n",
        "    self.layer1 = nn.Sequential(nn.Conv2d(input_size, hidden_dim, kernel_size=4, stride = 2, padding  = 1, bias=False))\n",
        "    self.layer2 = nn.Sequential(nn.Conv2d(hidden_dim, hidden_dim*2, kernel_size=4, stride = 2, padding  = 1, bias=False), nn.BatchNorm2d(hidden_dim*2))\n",
        "    self.layer3 = nn.Sequential(nn.Conv2d(hidden_dim*2,hidden_dim*4, kernel_size=4, stride = 2, padding  = 1, bias=False), nn.BatchNorm2d(hidden_dim*4))\n",
        "    self.fc = nn.Linear(hidden_dim*4*4*4, output_size)\n",
        "    self.drop_out = nn.Dropout()\n",
        "  def forward(self, x):\n",
        "  #TO DO: make forward\n",
        "    x = F.leaky_relu(self.layer1(x))\n",
        "    x = F.leaky_relu(self.layer2(x))\n",
        "    x = F.leaky_relu(self.layer3(x))\n",
        "    x = x.view(-1,self.hidden_dim*4*4*4)\n",
        "    x = self.drop_out(x)\n",
        "    x = self.fc(x)\n",
        "    return x"
      ],
      "execution_count": 0,
      "outputs": []
    },
    {
      "cell_type": "code",
      "metadata": {
        "id": "uUBcdt8Nc_9Z",
        "colab_type": "code",
        "colab": {}
      },
      "source": [
        "class Generator(nn.Module):\n",
        "  def __init__(self, input_size, hidden_dim, output_size):\n",
        "    super(Generator, self).__init__()\n",
        "    self.hidden_dim = hidden_dim\n",
        "    self.fc = nn.Linear(input_size, hidden_dim*8*2*2)\n",
        "    self.layer1 = nn.Sequential(nn.ConvTranspose2d(hidden_dim*8, hidden_dim*4, kernel_size=4, bias=False, stride=2), nn.BatchNorm2d(hidden_dim*4))\n",
        "    self.layer2 = nn.Sequential(nn.ConvTranspose2d(hidden_dim*4, hidden_dim*2, kernel_size=4, bias=False, stride=2), nn.BatchNorm2d(hidden_dim*2))\n",
        "    self.layer3 = nn.Sequential(nn.ConvTranspose2d(hidden_dim*2, hidden_dim, kernel_size=4, bias=False, stride=2), nn.BatchNorm2d(hidden_dim))\n",
        "    self.layer4 = nn.Sequential(nn.Conv2d(hidden_dim, output_size, kernel_size=4))\n",
        "    \n",
        "    self.drop_out = nn.Dropout()\n",
        "  def forward(self, x):\n",
        "    x = self.fc(x)\n",
        "    x = x.view(-1,self.hidden_dim*8,2,2)\n",
        "    x = F.leaky_relu(self.layer1(x))\n",
        "    x = F.leaky_relu(self.layer2(x))\n",
        "    x = F.leaky_relu(self.layer3(x))\n",
        "    x = self.drop_out(x)\n",
        "    x = F.tanh(self.layer4(x))\n",
        "    return x"
      ],
      "execution_count": 0,
      "outputs": []
    },
    {
      "cell_type": "code",
      "metadata": {
        "id": "J-XqLiPAAaYx",
        "colab_type": "code",
        "colab": {}
      },
      "source": [
        "#Параметры дискрименатора\n",
        "input_size = 1\n",
        "d_output_size = 1\n",
        "d_hidden_size = 64\n",
        "#Параметры генератора\n",
        "z_size = 100\n",
        "g_output_size = 1\n",
        "g_hidden_size = 64"
      ],
      "execution_count": 0,
      "outputs": []
    },
    {
      "cell_type": "code",
      "metadata": {
        "id": "aUpHI89EBoxG",
        "colab_type": "code",
        "colab": {}
      },
      "source": [
        "#Построение сетей\n",
        "D = Discriminator(input_size, d_hidden_size, d_output_size)\n",
        "G = Generator(z_size, g_hidden_size, g_output_size)"
      ],
      "execution_count": 0,
      "outputs": []
    },
    {
      "cell_type": "code",
      "metadata": {
        "id": "F-Qo0FQmBuOn",
        "colab_type": "code",
        "colab": {
          "base_uri": "https://localhost:8080/",
          "height": 612
        },
        "outputId": "112cd080-fe11-414f-a685-bf93cc8032de"
      },
      "source": [
        "#Посмотрим верно ли подобрали параметры \n",
        "print(D)\n",
        "print()\n",
        "print(G)"
      ],
      "execution_count": 8,
      "outputs": [
        {
          "output_type": "stream",
          "text": [
            "Discriminator(\n",
            "  (layer1): Sequential(\n",
            "    (0): Conv2d(1, 64, kernel_size=(4, 4), stride=(2, 2), padding=(1, 1), bias=False)\n",
            "  )\n",
            "  (layer2): Sequential(\n",
            "    (0): Conv2d(64, 128, kernel_size=(4, 4), stride=(2, 2), padding=(1, 1), bias=False)\n",
            "    (1): BatchNorm2d(128, eps=1e-05, momentum=0.1, affine=True, track_running_stats=True)\n",
            "  )\n",
            "  (layer3): Sequential(\n",
            "    (0): Conv2d(128, 256, kernel_size=(4, 4), stride=(2, 2), padding=(1, 1), bias=False)\n",
            "    (1): BatchNorm2d(256, eps=1e-05, momentum=0.1, affine=True, track_running_stats=True)\n",
            "  )\n",
            "  (fc): Linear(in_features=4096, out_features=1, bias=True)\n",
            "  (drop_out): Dropout(p=0.5, inplace=False)\n",
            ")\n",
            "\n",
            "Generator(\n",
            "  (fc): Linear(in_features=100, out_features=2048, bias=True)\n",
            "  (layer1): Sequential(\n",
            "    (0): ConvTranspose2d(512, 256, kernel_size=(4, 4), stride=(2, 2), bias=False)\n",
            "    (1): BatchNorm2d(256, eps=1e-05, momentum=0.1, affine=True, track_running_stats=True)\n",
            "  )\n",
            "  (layer2): Sequential(\n",
            "    (0): ConvTranspose2d(256, 128, kernel_size=(4, 4), stride=(2, 2), bias=False)\n",
            "    (1): BatchNorm2d(128, eps=1e-05, momentum=0.1, affine=True, track_running_stats=True)\n",
            "  )\n",
            "  (layer3): Sequential(\n",
            "    (0): ConvTranspose2d(128, 64, kernel_size=(4, 4), stride=(2, 2), bias=False)\n",
            "    (1): BatchNorm2d(64, eps=1e-05, momentum=0.1, affine=True, track_running_stats=True)\n",
            "  )\n",
            "  (layer4): Sequential(\n",
            "    (0): Conv2d(64, 1, kernel_size=(4, 4), stride=(1, 1))\n",
            "  )\n",
            "  (drop_out): Dropout(p=0.5, inplace=False)\n",
            ")\n"
          ],
          "name": "stdout"
        }
      ]
    },
    {
      "cell_type": "code",
      "metadata": {
        "id": "X9BGQL8UB_l1",
        "colab_type": "code",
        "colab": {}
      },
      "source": [
        "#Функции подсчета ошибок\n",
        "def real_loss(D_out, smooth=False):\n",
        "  batch_size = D_out.size(0)\n",
        "  if smooth:\n",
        "    labels = torch.ones(batch_size) * 0.9\n",
        "  else:\n",
        "    labels = torch.ones(batch_size) \n",
        "  criterion = nn.BCEWithLogitsLoss()\n",
        "  labels = labels.cuda() \n",
        "  loss = criterion(D_out.squeeze(),labels)\n",
        "  loss = loss.float()\n",
        "  return loss\n",
        "\n",
        "def fake_loss(D_out):\n",
        "  batch_size = D_out.size(0)\n",
        "  labels = torch.zeros(batch_size)\n",
        "  criterion = nn.BCEWithLogitsLoss()\n",
        "  labels = labels.cuda() \n",
        "  loss = criterion(D_out.squeeze(),labels)\n",
        "  return loss"
      ],
      "execution_count": 0,
      "outputs": []
    },
    {
      "cell_type": "code",
      "metadata": {
        "id": "oss35sCXFA0u",
        "colab_type": "code",
        "colab": {}
      },
      "source": [
        "#Определим 2 разных оптимизатора для генераторая и дискрименатора\n",
        "import torch.optim as optim\n",
        "\n",
        "lr = 0.002\n",
        "d_optimizer = optim.Adam(D.parameters(),lr= lr)\n",
        "g_optimizer = optim.Adam(G.parameters(),lr= lr)"
      ],
      "execution_count": 0,
      "outputs": []
    },
    {
      "cell_type": "code",
      "metadata": {
        "id": "2iEPvUkxFgr3",
        "colab_type": "code",
        "colab": {
          "base_uri": "https://localhost:8080/",
          "height": 1000
        },
        "outputId": "fa5f4c56-7620-4ae9-9aee-8b8207d17d43"
      },
      "source": [
        "#Обучение\n",
        "import pickle as pkl\n",
        "\n",
        "num_epochs = 40\n",
        "samples = []\n",
        "losses = []\n",
        "print_every = 400\n",
        "sample_size=16\n",
        "fixed_z = np.random.uniform(-1, 1, size=(sample_size, z_size))\n",
        "fixed_z = torch.from_numpy(fixed_z).float()\n",
        "fixed_z = fixed_z.cuda()\n",
        "D.train()\n",
        "G.train()\n",
        "D.cuda()\n",
        "G.cuda()\n",
        "for epoch in range(num_epochs):\n",
        "  for batch_i, (real_images, _) in enumerate(train_loader):\n",
        "    batch_size = real_images.size(0)\n",
        "    ## Important rescaling step ##\n",
        "    real_images = real_images*2 - 1 \n",
        "    real_images = real_images.cuda()\n",
        "    #Обучаем дискременатор сразу на реальных и фейковых картинках\n",
        "    d_optimizer.zero_grad()\n",
        "    #Обучение с реальными картинками\n",
        "    D_real = D(real_images)\n",
        "    d_real_loss = real_loss(D_real)\n",
        "    #Обучение на фейковых картинках\n",
        "    #Генерация фейковых картинок\n",
        "    z = np.random.uniform(-1,1,size = (batch_size,z_size))\n",
        "    z = torch.from_numpy(z).float()\n",
        "    z = z.cuda()\n",
        "    fake_images = G(z)\n",
        "    D_fake = D(fake_images)\n",
        "    d_fake_loss = fake_loss(D_fake)\n",
        "    \n",
        "    d_loss = d_fake_loss + d_real_loss\n",
        "    d_loss.backward()\n",
        "    d_optimizer.step()\n",
        "    \n",
        "    #Обучаем генератор\n",
        "    g_optimizer.zero_grad()\n",
        "\n",
        "    z = np.random.uniform(-1, 1, size=(batch_size, z_size))\n",
        "    z = torch.from_numpy(z).float()\n",
        "    z = z.cuda()\n",
        "\n",
        "    fake_images = G(z)\n",
        "\n",
        "    D_fake = D(fake_images)\n",
        "    g_loss = real_loss(D_fake, smooth=True)\n",
        "    g_loss.backward()\n",
        "\n",
        "    if batch_i % print_every == 0:    \n",
        "      print('Epoch [{:5d}/{:5d}] | d_loss: {:6.4f} | g_loss: {:6.4f}'.format(\n",
        "              epoch+1, num_epochs, d_loss.item(), g_loss.item()))\n",
        "\n",
        "  losses.append((d_loss.item(), g_loss.item()))\n",
        "  G.eval()\n",
        "  samples_z = G(fixed_z)\n",
        "  samples.append(samples_z)\n",
        "  G.train()\n",
        "\n",
        "with open('train_samples.pkl', 'wb') as f:\n",
        "  pkl.dump(samples, f)"
      ],
      "execution_count": 11,
      "outputs": [
        {
          "output_type": "stream",
          "text": [
            "/usr/local/lib/python3.6/dist-packages/torch/nn/functional.py:1558: UserWarning: nn.functional.tanh is deprecated. Use torch.tanh instead.\n",
            "  warnings.warn(\"nn.functional.tanh is deprecated. Use torch.tanh instead.\")\n"
          ],
          "name": "stderr"
        },
        {
          "output_type": "stream",
          "text": [
            "Epoch [    1/   40] | d_loss: 1.5310 | g_loss: 1.6674\n",
            "Epoch [    1/   40] | d_loss: 0.0000 | g_loss: 15.4904\n",
            "Epoch [    1/   40] | d_loss: 0.0000 | g_loss: 15.5325\n",
            "Epoch [    2/   40] | d_loss: 0.0000 | g_loss: 15.2132\n",
            "Epoch [    2/   40] | d_loss: 0.0000 | g_loss: 15.4199\n",
            "Epoch [    2/   40] | d_loss: 0.0000 | g_loss: 15.2326\n",
            "Epoch [    3/   40] | d_loss: 0.0000 | g_loss: 15.1445\n",
            "Epoch [    3/   40] | d_loss: 0.0000 | g_loss: 15.4432\n",
            "Epoch [    3/   40] | d_loss: 0.0000 | g_loss: 15.5032\n",
            "Epoch [    4/   40] | d_loss: 0.0000 | g_loss: 15.6976\n",
            "Epoch [    4/   40] | d_loss: 0.0000 | g_loss: 15.3315\n",
            "Epoch [    4/   40] | d_loss: 0.0000 | g_loss: 15.7439\n",
            "Epoch [    5/   40] | d_loss: 0.0000 | g_loss: 15.7448\n",
            "Epoch [    5/   40] | d_loss: 0.0000 | g_loss: 15.8086\n",
            "Epoch [    5/   40] | d_loss: 0.0000 | g_loss: 15.6356\n",
            "Epoch [    6/   40] | d_loss: 0.0000 | g_loss: 15.9078\n",
            "Epoch [    6/   40] | d_loss: 0.0000 | g_loss: 15.8839\n",
            "Epoch [    6/   40] | d_loss: 0.0000 | g_loss: 16.0837\n",
            "Epoch [    7/   40] | d_loss: 0.0000 | g_loss: 15.9320\n",
            "Epoch [    7/   40] | d_loss: 0.0000 | g_loss: 16.3523\n",
            "Epoch [    7/   40] | d_loss: 0.0000 | g_loss: 16.6027\n",
            "Epoch [    8/   40] | d_loss: 0.0000 | g_loss: 16.4211\n",
            "Epoch [    8/   40] | d_loss: 0.0000 | g_loss: 16.8026\n",
            "Epoch [    8/   40] | d_loss: 0.0000 | g_loss: 16.7949\n",
            "Epoch [    9/   40] | d_loss: 0.0000 | g_loss: 17.0719\n",
            "Epoch [    9/   40] | d_loss: 0.0000 | g_loss: 16.8564\n",
            "Epoch [    9/   40] | d_loss: 0.0000 | g_loss: 17.5968\n",
            "Epoch [   10/   40] | d_loss: 0.0000 | g_loss: 17.3993\n",
            "Epoch [   10/   40] | d_loss: 0.0000 | g_loss: 17.6221\n",
            "Epoch [   10/   40] | d_loss: 0.0000 | g_loss: 17.8761\n",
            "Epoch [   11/   40] | d_loss: 0.0000 | g_loss: 17.7035\n",
            "Epoch [   11/   40] | d_loss: 0.0000 | g_loss: 18.0364\n",
            "Epoch [   11/   40] | d_loss: 0.0000 | g_loss: 18.0580\n",
            "Epoch [   12/   40] | d_loss: 0.0000 | g_loss: 18.3234\n",
            "Epoch [   12/   40] | d_loss: 0.0000 | g_loss: 18.5146\n",
            "Epoch [   12/   40] | d_loss: 0.0000 | g_loss: 18.8723\n",
            "Epoch [   13/   40] | d_loss: 0.0000 | g_loss: 18.4322\n",
            "Epoch [   13/   40] | d_loss: 0.0000 | g_loss: 18.8956\n",
            "Epoch [   13/   40] | d_loss: 0.0000 | g_loss: 18.7496\n",
            "Epoch [   14/   40] | d_loss: 0.0000 | g_loss: 19.0803\n",
            "Epoch [   14/   40] | d_loss: 0.0000 | g_loss: 19.0413\n",
            "Epoch [   14/   40] | d_loss: 0.0000 | g_loss: 19.4809\n",
            "Epoch [   15/   40] | d_loss: 0.0000 | g_loss: 19.5492\n",
            "Epoch [   15/   40] | d_loss: 0.0000 | g_loss: 19.8115\n",
            "Epoch [   15/   40] | d_loss: 0.0000 | g_loss: 19.9402\n",
            "Epoch [   16/   40] | d_loss: 0.0000 | g_loss: 19.9440\n",
            "Epoch [   16/   40] | d_loss: 0.0000 | g_loss: 20.4384\n",
            "Epoch [   16/   40] | d_loss: 0.0000 | g_loss: 20.3106\n",
            "Epoch [   17/   40] | d_loss: 0.0000 | g_loss: 20.4647\n",
            "Epoch [   17/   40] | d_loss: 0.0000 | g_loss: 20.6857\n",
            "Epoch [   17/   40] | d_loss: 0.0000 | g_loss: 20.6709\n",
            "Epoch [   18/   40] | d_loss: 0.0000 | g_loss: 20.9936\n",
            "Epoch [   18/   40] | d_loss: 0.0000 | g_loss: 21.0483\n",
            "Epoch [   18/   40] | d_loss: 0.0000 | g_loss: 21.0684\n",
            "Epoch [   19/   40] | d_loss: 0.0000 | g_loss: 21.3266\n",
            "Epoch [   19/   40] | d_loss: 0.0000 | g_loss: 21.6046\n",
            "Epoch [   19/   40] | d_loss: 0.0000 | g_loss: 21.8007\n",
            "Epoch [   20/   40] | d_loss: 0.0000 | g_loss: 21.6865\n",
            "Epoch [   20/   40] | d_loss: 0.0000 | g_loss: 21.9925\n",
            "Epoch [   20/   40] | d_loss: 0.0000 | g_loss: 22.0194\n",
            "Epoch [   21/   40] | d_loss: 0.0000 | g_loss: 21.8696\n",
            "Epoch [   21/   40] | d_loss: 0.0000 | g_loss: 22.8307\n",
            "Epoch [   21/   40] | d_loss: 0.0000 | g_loss: 22.6969\n",
            "Epoch [   22/   40] | d_loss: 0.0000 | g_loss: 22.7913\n",
            "Epoch [   22/   40] | d_loss: 0.0000 | g_loss: 22.6450\n",
            "Epoch [   22/   40] | d_loss: 0.0000 | g_loss: 23.2803\n",
            "Epoch [   23/   40] | d_loss: 0.0000 | g_loss: 22.9359\n",
            "Epoch [   23/   40] | d_loss: 0.0000 | g_loss: 23.2344\n",
            "Epoch [   23/   40] | d_loss: 0.0000 | g_loss: 23.0979\n",
            "Epoch [   24/   40] | d_loss: 0.0000 | g_loss: 23.0792\n",
            "Epoch [   24/   40] | d_loss: 0.0000 | g_loss: 23.6282\n",
            "Epoch [   24/   40] | d_loss: 0.0000 | g_loss: 23.6219\n",
            "Epoch [   25/   40] | d_loss: 0.0000 | g_loss: 23.6508\n",
            "Epoch [   25/   40] | d_loss: 0.0000 | g_loss: 24.0856\n",
            "Epoch [   25/   40] | d_loss: 0.0000 | g_loss: 24.1519\n",
            "Epoch [   26/   40] | d_loss: 0.0000 | g_loss: 24.0882\n",
            "Epoch [   26/   40] | d_loss: 0.0000 | g_loss: 24.3421\n",
            "Epoch [   26/   40] | d_loss: 0.0000 | g_loss: 24.2919\n",
            "Epoch [   27/   40] | d_loss: 0.0000 | g_loss: 24.5707\n",
            "Epoch [   27/   40] | d_loss: 0.0000 | g_loss: 24.9376\n",
            "Epoch [   27/   40] | d_loss: 0.0000 | g_loss: 24.5640\n",
            "Epoch [   28/   40] | d_loss: 0.0000 | g_loss: 24.8258\n",
            "Epoch [   28/   40] | d_loss: 0.0000 | g_loss: 24.8445\n",
            "Epoch [   28/   40] | d_loss: 0.0000 | g_loss: 25.1436\n",
            "Epoch [   29/   40] | d_loss: 0.0000 | g_loss: 25.0475\n",
            "Epoch [   29/   40] | d_loss: 0.0000 | g_loss: 25.4641\n",
            "Epoch [   29/   40] | d_loss: 0.0000 | g_loss: 25.3151\n",
            "Epoch [   30/   40] | d_loss: 0.0000 | g_loss: 25.6836\n",
            "Epoch [   30/   40] | d_loss: 0.0000 | g_loss: 25.6187\n",
            "Epoch [   30/   40] | d_loss: 0.0000 | g_loss: 25.8255\n",
            "Epoch [   31/   40] | d_loss: 0.0000 | g_loss: 25.8309\n",
            "Epoch [   31/   40] | d_loss: 0.0000 | g_loss: 26.0615\n",
            "Epoch [   31/   40] | d_loss: 0.0000 | g_loss: 25.9435\n",
            "Epoch [   32/   40] | d_loss: 0.0000 | g_loss: 26.1546\n",
            "Epoch [   32/   40] | d_loss: 0.0000 | g_loss: 26.3724\n",
            "Epoch [   32/   40] | d_loss: 0.0000 | g_loss: 26.1482\n",
            "Epoch [   33/   40] | d_loss: 0.0000 | g_loss: 26.1704\n",
            "Epoch [   33/   40] | d_loss: 0.0000 | g_loss: 26.6222\n",
            "Epoch [   33/   40] | d_loss: 0.0000 | g_loss: 26.8022\n",
            "Epoch [   34/   40] | d_loss: 0.0000 | g_loss: 26.3439\n",
            "Epoch [   34/   40] | d_loss: 0.0000 | g_loss: 26.2927\n",
            "Epoch [   34/   40] | d_loss: 0.0000 | g_loss: 26.2449\n",
            "Epoch [   35/   40] | d_loss: 0.0000 | g_loss: 26.7064\n",
            "Epoch [   35/   40] | d_loss: 0.0000 | g_loss: 26.6397\n",
            "Epoch [   35/   40] | d_loss: 0.0000 | g_loss: 26.8478\n",
            "Epoch [   36/   40] | d_loss: 0.0000 | g_loss: 26.5364\n",
            "Epoch [   36/   40] | d_loss: 0.0000 | g_loss: 26.9035\n",
            "Epoch [   36/   40] | d_loss: 0.0000 | g_loss: 27.2885\n",
            "Epoch [   37/   40] | d_loss: 0.0000 | g_loss: 26.9268\n",
            "Epoch [   37/   40] | d_loss: 0.0000 | g_loss: 27.1134\n",
            "Epoch [   37/   40] | d_loss: 0.0000 | g_loss: 27.3939\n",
            "Epoch [   38/   40] | d_loss: 0.0000 | g_loss: 27.6564\n",
            "Epoch [   38/   40] | d_loss: 0.0000 | g_loss: 26.6997\n",
            "Epoch [   38/   40] | d_loss: 0.0000 | g_loss: 27.0575\n",
            "Epoch [   39/   40] | d_loss: 0.0000 | g_loss: 27.1975\n",
            "Epoch [   39/   40] | d_loss: 0.0000 | g_loss: 27.2139\n",
            "Epoch [   39/   40] | d_loss: 0.0000 | g_loss: 27.0387\n",
            "Epoch [   40/   40] | d_loss: 0.0000 | g_loss: 27.3939\n",
            "Epoch [   40/   40] | d_loss: 0.0000 | g_loss: 26.8659\n",
            "Epoch [   40/   40] | d_loss: 0.0000 | g_loss: 27.1740\n"
          ],
          "name": "stdout"
        },
        {
          "output_type": "stream",
          "text": [
            "/usr/local/lib/python3.6/dist-packages/torch/storage.py:34: FutureWarning: pickle support for Storage will be removed in 1.5. Use `torch.save` instead\n",
            "  warnings.warn(\"pickle support for Storage will be removed in 1.5. Use `torch.save` instead\", FutureWarning)\n"
          ],
          "name": "stderr"
        }
      ]
    },
    {
      "cell_type": "code",
      "metadata": {
        "id": "aQYH8VH8hPyy",
        "colab_type": "code",
        "colab": {
          "base_uri": "https://localhost:8080/",
          "height": 298
        },
        "outputId": "44d2fdd4-6acc-42f2-bae7-0bf8a44eaa0d"
      },
      "source": [
        "fig, ax = plt.subplots()\n",
        "losses = np.array(losses)\n",
        "plt.plot(losses.T[0], label='Discriminator')\n",
        "plt.plot(losses.T[1], label='Generator')\n",
        "plt.title(\"Training Losses\")\n",
        "plt.legend()"
      ],
      "execution_count": 12,
      "outputs": [
        {
          "output_type": "execute_result",
          "data": {
            "text/plain": [
              "<matplotlib.legend.Legend at 0x7f1309e09978>"
            ]
          },
          "metadata": {
            "tags": []
          },
          "execution_count": 12
        },
        {
          "output_type": "display_data",
          "data": {
            "image/png": "[encoded data removed]",
            "text/plain": [
              "<Figure size 432x288 with 1 Axes>"
            ]
          },
          "metadata": {
            "tags": [],
            "needs_background": "light"
          }
        }
      ]
    },
    {
      "cell_type": "code",
      "metadata": {
        "id": "-_FQ_pIyhT-b",
        "colab_type": "code",
        "colab": {}
      },
      "source": [
        "def view_samples(epoch, samples):\n",
        "  fig, axes = plt.subplots(figsize=(7,7), nrows=4, ncols=4, sharey=True, sharex=True)\n",
        "  for ax, img in zip(axes.flatten(), samples[epoch]):\n",
        "    img = img.detach()\n",
        "    ax.xaxis.set_visible(False)\n",
        "    ax.yaxis.set_visible(False)\n",
        "    im = ax.imshow(img.reshape((28,28)), cmap='Greys_r')"
      ],
      "execution_count": 0,
      "outputs": []
    },
    {
      "cell_type": "code",
      "metadata": {
        "id": "drM_V3Gbhbgy",
        "colab_type": "code",
        "colab": {}
      },
      "source": [
        "# Load samples from generator, taken while training\n",
        "with open('train_samples.pkl', 'rb') as f:\n",
        "  samples = pkl.load(f)"
      ],
      "execution_count": 0,
      "outputs": []
    },
    {
      "cell_type": "code",
      "metadata": {
        "id": "B6GSJEs-hckX",
        "colab_type": "code",
        "colab": {
          "base_uri": "https://localhost:8080/",
          "height": 659
        },
        "outputId": "72e970a1-a920-444f-f58e-48d8fbab32de"
      },
      "source": [
        "view_samples(-1, samples)"
      ],
      "execution_count": 15,
      "outputs": [
        {
          "output_type": "error",
          "ename": "RuntimeError",
          "evalue": "ignored",
          "traceback": [
            "\u001b[0;31m---------------------------------------------------------------------------\u001b[0m",
            "\u001b[0;31mRuntimeError\u001b[0m                              Traceback (most recent call last)",
            "\u001b[0;32m<ipython-input-15-ae98c9d9feba>\u001b[0m in \u001b[0;36m<module>\u001b[0;34m()\u001b[0m\n\u001b[0;32m----> 1\u001b[0;31m \u001b[0mview_samples\u001b[0m\u001b[0;34m(\u001b[0m\u001b[0;34m-\u001b[0m\u001b[0;36m1\u001b[0m\u001b[0;34m,\u001b[0m \u001b[0msamples\u001b[0m\u001b[0;34m)\u001b[0m\u001b[0;34m\u001b[0m\u001b[0;34m\u001b[0m\u001b[0m\n\u001b[0m",
            "\u001b[0;32m<ipython-input-13-dd867f3593da>\u001b[0m in \u001b[0;36mview_samples\u001b[0;34m(epoch, samples)\u001b[0m\n\u001b[1;32m      5\u001b[0m     \u001b[0max\u001b[0m\u001b[0;34m.\u001b[0m\u001b[0mxaxis\u001b[0m\u001b[0;34m.\u001b[0m\u001b[0mset_visible\u001b[0m\u001b[0;34m(\u001b[0m\u001b[0;32mFalse\u001b[0m\u001b[0;34m)\u001b[0m\u001b[0;34m\u001b[0m\u001b[0;34m\u001b[0m\u001b[0m\n\u001b[1;32m      6\u001b[0m     \u001b[0max\u001b[0m\u001b[0;34m.\u001b[0m\u001b[0myaxis\u001b[0m\u001b[0;34m.\u001b[0m\u001b[0mset_visible\u001b[0m\u001b[0;34m(\u001b[0m\u001b[0;32mFalse\u001b[0m\u001b[0;34m)\u001b[0m\u001b[0;34m\u001b[0m\u001b[0;34m\u001b[0m\u001b[0m\n\u001b[0;32m----> 7\u001b[0;31m     \u001b[0mim\u001b[0m \u001b[0;34m=\u001b[0m \u001b[0max\u001b[0m\u001b[0;34m.\u001b[0m\u001b[0mimshow\u001b[0m\u001b[0;34m(\u001b[0m\u001b[0mimg\u001b[0m\u001b[0;34m.\u001b[0m\u001b[0mreshape\u001b[0m\u001b[0;34m(\u001b[0m\u001b[0;34m(\u001b[0m\u001b[0;36m28\u001b[0m\u001b[0;34m,\u001b[0m\u001b[0;36m28\u001b[0m\u001b[0;34m)\u001b[0m\u001b[0;34m)\u001b[0m\u001b[0;34m,\u001b[0m \u001b[0mcmap\u001b[0m\u001b[0;34m=\u001b[0m\u001b[0;34m'Greys_r'\u001b[0m\u001b[0;34m)\u001b[0m\u001b[0;34m\u001b[0m\u001b[0;34m\u001b[0m\u001b[0m\n\u001b[0m",
            "\u001b[0;31mRuntimeError\u001b[0m: shape '[28, 28]' is invalid for input of size 729"
          ]
        },
        {
          "output_type": "display_data",
          "data": {
            "image/png": "[encoded data removed]",
            "text/plain": [
              "<Figure size 504x504 with 16 Axes>"
            ]
          },
          "metadata": {
            "tags": [],
            "needs_background": "light"
          }
        }
      ]
    },
    {
      "cell_type": "code",
      "metadata": {
        "id": "cNWTRCNKhf4s",
        "colab_type": "code",
        "colab": {}
      },
      "source": [
        "rows = 10 # split epochs into 10, so 100/10 = every 10 epochs\n",
        "cols = 6\n",
        "fig, axes = plt.subplots(figsize=(7,12), nrows=rows, ncols=cols, sharex=True, sharey=True)\n",
        "for sample, ax_row in zip(samples[::int(len(samples)/rows)], axes):\n",
        "  for img, ax in zip(sample[::int(len(sample)/cols)], ax_row):\n",
        "    img = img.detach()\n",
        "    ax.imshow(img.reshape((28,28)), cmap='Greys_r')\n",
        "    ax.xaxis.set_visible(False)\n",
        "    ax.yaxis.set_visible(False)"
      ],
      "execution_count": 0,
      "outputs": []
    },
    {
      "cell_type": "code",
      "metadata": {
        "id": "GumBVKFOho8J",
        "colab_type": "code",
        "colab": {}
      },
      "source": [
        "sample_size=16\n",
        "rand_z = np.random.uniform(-1, 1, size=(sample_size, z_size))\n",
        "rand_z = torch.from_numpy(rand_z).float()\n",
        "G.eval() # eval mode\n",
        "# generated samples\n",
        "rand_images = G(rand_z)\n",
        "# 0 indicates the first set of samples in the passed in list\n",
        "# and we only have one batch of samples, here\n",
        "view_samples(0, [rand_images])"
      ],
      "execution_count": 0,
      "outputs": []
    }
  ]
}